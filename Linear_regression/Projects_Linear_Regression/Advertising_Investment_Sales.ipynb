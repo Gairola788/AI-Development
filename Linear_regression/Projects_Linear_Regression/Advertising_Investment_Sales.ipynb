{
 "cells": [
  {
   "cell_type": "markdown",
   "id": "c6a6e63e",
   "metadata": {},
   "source": [
    "## Sales prediction of a Product Afetr Investing million dollars on different channels\n",
    "Dataset : Advertising.csv\n",
    "\n",
    "Dataset Description\n",
    "The Advertising.csv dataset typically contains the following columns:\n",
    "\n",
    "TV: Advertising budget spent on TV (in thousands of dollars).\n",
    "Radio: Advertising budget spent on radio.\n",
    "Newspaper: Advertising budget spent on newspapers.\n",
    "Sales: The target variable (sales in thousands of units).\n",
    "\n"
   ]
  },
  {
   "cell_type": "markdown",
   "id": "19f82d67",
   "metadata": {},
   "source": [
    "# Load and explore the dataset"
   ]
  },
  {
   "cell_type": "code",
   "execution_count": 9,
   "id": "4b94a429",
   "metadata": {},
   "outputs": [
    {
     "name": "stdout",
     "output_type": "stream",
     "text": [
      "   Unnamed: 0     TV  radio  newspaper  sales\n",
      "0           1  230.1   37.8       69.2   22.1\n",
      "1           2   44.5   39.3       45.1   10.4\n",
      "2           3   17.2   45.9       69.3    9.3\n",
      "3           4  151.5   41.3       58.5   18.5\n",
      "4           5  180.8   10.8       58.4   12.9\n",
      "Unnamed: 0    0\n",
      "TV            0\n",
      "radio         0\n",
      "newspaper     0\n",
      "sales         0\n",
      "dtype: int64\n"
     ]
    }
   ],
   "source": [
    "import pandas as pd\n",
    "import numpy as np\n",
    "import matplotlib.pyplot as plt\n",
    "\n",
    "#Load the dataset\n",
    "Record = pd.read_csv('Advertising.csv')\n",
    "\n",
    "data = pd.DataFrame(Record)\n",
    "\n",
    "#Display the first few rows\n",
    "print(data.head())\n",
    "\n",
    "#Check for missing values\n",
    "print(data.isnull().sum())"
   ]
  },
  {
   "cell_type": "code",
   "execution_count": null,
   "id": "0b62f28e",
   "metadata": {},
   "outputs": [],
   "source": []
  }
 ],
 "metadata": {
  "kernelspec": {
   "display_name": "Python 3",
   "language": "python",
   "name": "python3"
  },
  "language_info": {
   "codemirror_mode": {
    "name": "ipython",
    "version": 3
   },
   "file_extension": ".py",
   "mimetype": "text/x-python",
   "name": "python",
   "nbconvert_exporter": "python",
   "pygments_lexer": "ipython3",
   "version": "3.13.5"
  }
 },
 "nbformat": 4,
 "nbformat_minor": 5
}
