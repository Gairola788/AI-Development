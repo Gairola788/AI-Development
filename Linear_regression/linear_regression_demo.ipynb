{
 "cells": [
  {
   "cell_type": "code",
   "execution_count": 2,
   "id": "ce38e84b",
   "metadata": {},
   "outputs": [
    {
     "name": "stdout",
     "output_type": "stream",
     "text": [
      "hello Everyone, I am excited to start with AI/Ml dev with the first model which is linear regression\n"
     ]
    }
   ],
   "source": [
    "print(\"hello Everyone, I am excited to start with AI/Ml dev with the first model which is linear regression\")"
   ]
  },
  {
   "cell_type": "code",
   "execution_count": null,
   "id": "94baf267",
   "metadata": {},
   "outputs": [],
   "source": []
  }
 ],
 "metadata": {
  "kernelspec": {
   "display_name": "Python 3",
   "language": "python",
   "name": "python3"
  },
  "language_info": {
   "codemirror_mode": {
    "name": "ipython",
    "version": 3
   },
   "file_extension": ".py",
   "mimetype": "text/x-python",
   "name": "python",
   "nbconvert_exporter": "python",
   "pygments_lexer": "ipython3",
   "version": "3.13.5"
  }
 },
 "nbformat": 4,
 "nbformat_minor": 5
}
