{
 "cells": [
  {
   "cell_type": "code",
   "execution_count": 7,
   "id": "ce38e84b",
   "metadata": {},
   "outputs": [],
   "source": [
    "#Importing python library files and other dependencies\n",
    "import pandas as pd\n",
    "import numpy as  np\n",
    "import matplotlib .pyplot as plt \n",
    "from sklearn.model_selection import train_test_split #Know as train test split\n",
    "from sklearn.linear_model import LinearRegression #Model selection\n",
    "from sklearn.metrics import mean_squared_error,mean_absolute_error,r2_score"
   ]
  },
  {
   "cell_type": "code",
   "execution_count": 8,
   "id": "94baf267",
   "metadata": {},
   "outputs": [],
   "source": [
    "#Load or selection of dataset\n",
    "Data = pd.read_csv(\"Advertising.csv\")"
   ]
  },
  {
   "cell_type": "code",
   "execution_count": null,
   "id": "f1dd7069",
   "metadata": {},
   "outputs": [],
   "source": []
  }
 ],
 "metadata": {
  "kernelspec": {
   "display_name": "Python 3",
   "language": "python",
   "name": "python3"
  },
  "language_info": {
   "codemirror_mode": {
    "name": "ipython",
    "version": 3
   },
   "file_extension": ".py",
   "mimetype": "text/x-python",
   "name": "python",
   "nbconvert_exporter": "python",
   "pygments_lexer": "ipython3",
   "version": "3.13.5"
  }
 },
 "nbformat": 4,
 "nbformat_minor": 5
}
