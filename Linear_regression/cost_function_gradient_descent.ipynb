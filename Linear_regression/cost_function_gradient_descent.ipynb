{
 "cells": [
  {
   "cell_type": "markdown",
   "id": "7321607d",
   "metadata": {},
   "source": [
    "# Linear Regression: Cost Function and Gradient Descent (from Scratch)\n",
    "\n",
    "In this notebook, I implement Linear Regression from scratch using NumPy to understand how the Cost Function and Gradient Descent work internally.\n"
   ]
  },
  {
   "cell_type": "markdown",
   "id": "eab62f18",
   "metadata": {},
   "source": [
    "### 🧮 Cost Function\n",
    "\n",
    "The cost function used in Linear Regression is:\n",
    "\n",
    "$$\n",
    "J(\\\\theta) = \\\\frac{1}{2m} \\\\sum_{i=1}^{m} \\\\left( h_\\\\theta(x^{(i)}) - y^{(i)} \\\\right)^2\n",
    "$$\n",
    "\n",
    "Where:\n",
    "- \\( h_\\\\theta(x) = wx + b \\)\n",
    "- \\( m \\) is the number of training examples\n"
   ]
  },
  {
   "cell_type": "code",
   "execution_count": 2,
   "id": "e5740d7a",
   "metadata": {},
   "outputs": [
    {
     "name": "stdout",
     "output_type": "stream",
     "text": [
      "Cost: 2.333333333333333\n"
     ]
    }
   ],
   "source": [
    "import numpy as np\n",
    "\n",
    "\n",
    "\n",
    "def compute_cost(X, y, theta):\n",
    "    m = len(y)  # Number of training examples\n",
    "    predictions = X.dot(theta)  # h_theta(x) = X * theta\n",
    "    errors = predictions - y\n",
    "    squared_errors = errors ** 2\n",
    "    cost = (1 / (2 * m)) * np.sum(squared_errors)\n",
    "    return cost\n",
    "\n",
    "# Example usage:\n",
    "X = np.array([[1, 1], [1, 2], [1, 3]])  # Added a column of 1s for theta_0 (bias)\n",
    "y = np.array([2, 4, 6])\n",
    "theta = np.array([0, 1])  # [theta_0, theta_1]\n",
    "\n",
    "cost = compute_cost(X, y, theta)\n",
    "print(f\"Cost: {cost}\")  # Output: ~2.33 (matches manual calculation)"
   ]
  },
  {
   "cell_type": "markdown",
   "id": "8b317603",
   "metadata": {},
   "source": [
    "## Visualize the Cost Function"
   ]
  },
  {
   "cell_type": "code",
   "execution_count": 15,
   "id": "ad018bf1",
   "metadata": {},
   "outputs": [
    {
     "data": {
      "image/png": "[encoded data removed]",
      "text/plain": [
       "<Figure size 640x480 with 1 Axes>"
      ]
     },
     "metadata": {},
     "output_type": "display_data"
    }
   ],
   "source": [
    "import matplotlib.pyplot as plt\n",
    "\n",
    "# Range of theta values\n",
    "theta1_values = np.linspace(-2, 4, 100)\n",
    "costs = [compute_cost(X, y, np.array([0, t1])) for t1 in theta1_values]\n",
    "\n",
    "# Plot\n",
    "plt.plot(theta1_values, costs)\n",
    "plt.xlabel('Theta1')\n",
    "plt.ylabel('Cost J')\n",
    "plt.title('Cost Function vs. Theta1')\n",
    "plt.show()"
   ]
  },
  {
   "cell_type": "markdown",
   "id": "2d0d8bfe",
   "metadata": {},
   "source": [
    "## What is Gradient Descent?\n",
    "\n",
    "Gradient Descent is an iterative optimization algorithm used to minimize a cost function \n",
    "J\n",
    "(\n",
    "θ\n",
    ")\n",
    "J(θ) (like MSE in linear regression). It adjusts model parameters (\n",
    "θ\n",
    "θ) step-by-step to find the minimum cost (optimal parameters).\n",
    "\n",
    "# When to Use It?\n",
    "Linear/Logistic Regression, Neural Networks, and most ML models.\n",
    "When the cost function is differentiable (has a computable gradient).\n",
    "For large datasets (stochastic variants like SGD are more efficient)."
   ]
  },
  {
   "cell_type": "markdown",
   "id": "d6873117",
   "metadata": {},
   "source": [
    "# Intution\n",
    "\n",
    "\n",
    "Imagine you’re blindfolded on a hill and want to reach the bottom. You’d feel the steepest slope around you and take a step downhill. Repeat until you can’t go lower. Gradient descent does this mathematically!\n",
    "\n",
    "# Mathematical Formulation\n",
    "For a parameter \n",
    "θ\n",
    "θ, the update rule is:\n",
    "\n",
    "θ\n",
    ":\n",
    "=\n",
    "θ\n",
    "−\n",
    "α\n",
    "⋅\n",
    "∂\n",
    "J\n",
    "(\n",
    "θ\n",
    ")\n",
    "∂\n",
    "θ\n",
    "θ:=θ−α⋅ \n",
    "∂θ\n",
    "∂J(θ)\n",
    "​\n",
    " \n",
    "α\n",
    "α: Learning rate (step size).\n",
    "∂\n",
    "J\n",
    "(\n",
    "θ\n",
    ")\n",
    "∂\n",
    "θ\n",
    "∂θ\n",
    "∂J(θ)\n",
    "​\n",
    " : Gradient (slope) of \n",
    "J\n",
    "J w.r.t \n",
    "θ\n",
    "θ.\n",
    "# Types of Gradient Descent\n",
    "Batch GD: Uses the entire dataset for each step (slow but precise).\n",
    "Stochastic GD (SGD): Uses one random sample per step (fast but noisy).\n",
    "Mini-batch GD: Compromise (uses small batches of data).\n",
    "\n"
   ]
  },
  {
   "cell_type": "code",
   "execution_count": 1,
   "id": "dfda365a",
   "metadata": {},
   "outputs": [
    {
     "name": "stdout",
     "output_type": "stream",
     "text": [
      "Optimal theta: [0.22143042 1.90259238]\n"
     ]
    }
   ],
   "source": [
    "import numpy as np\n",
    "import matplotlib.pyplot as plt\n",
    "\n",
    "def compute_cost(X, y, theta):\n",
    "    m = len(y)\n",
    "    predictions = X.dot(theta)\n",
    "    errors = predictions - y\n",
    "    return (1 / (2 * m)) * np.sum(errors ** 2)\n",
    "\n",
    "def gradient_descent(X, y, theta, alpha, iterations):\n",
    "    m = len(y)\n",
    "    cost_history = []\n",
    "    for i in range(iterations):\n",
    "        gradient = (1 / m) * X.T.dot(X.dot(theta) - y)\n",
    "        theta -= alpha * gradient\n",
    "        cost_history.append(compute_cost(X, y, theta))\n",
    "    return theta, cost_history\n",
    "\n",
    "# Sample data (with bias term)\n",
    "X = np.array([[1, 1], [1, 2], [1, 3]])  # Shape: (3, 2)\n",
    "y = np.array([2, 4, 6])  # Target\n",
    "\n",
    "# Initialize parameters as floats\n",
    "theta = np.array([0.0, 0.0])  # [theta_0, theta_1]\n",
    "\n",
    "# Hyperparameters (adjusted)\n",
    "alpha = 0.01  # Smaller learning rate\n",
    "iterations = 1000  # More iterations\n",
    "\n",
    "# Run gradient descent\n",
    "theta_optimal, costs = gradient_descent(X, y, theta, alpha, iterations)\n",
    "\n",
    "print(f\"Optimal theta: {theta_optimal}\")  # Should be closer to [0, 2]"
   ]
  },
  {
   "cell_type": "code",
   "execution_count": 3,
   "id": "1f770033",
   "metadata": {},
   "outputs": [
    {
     "data": {
      "text/plain": [
       "Text(0.5, 1.0, 'Cost reduction Over iteration')"
      ]
     },
     "execution_count": 3,
     "metadata": {},
     "output_type": "execute_result"
    },
    {
     "data": {
      "image/png": "[encoded data removed]",
      "text/plain": [
       "<Figure size 640x480 with 1 Axes>"
      ]
     },
     "metadata": {},
     "output_type": "display_data"
    }
   ],
   "source": [
    "#Visualize cost over time\n",
    "import matplotlib.pyplot as plt\n",
    "\n",
    "plt.plot(range(iterations),costs)\n",
    "plt.xlabel('Iterations')\n",
    "plt.ylabel('Cost J')\n",
    "plt.title('Cost reduction Over iteration')\n"
   ]
  },
  {
   "cell_type": "code",
   "execution_count": null,
   "id": "cf9295ae",
   "metadata": {},
   "outputs": [],
   "source": []
  }
 ],
 "metadata": {
  "kernelspec": {
   "display_name": "Python 3",
   "language": "python",
   "name": "python3"
  },
  "language_info": {
   "codemirror_mode": {
    "name": "ipython",
    "version": 3
   },
   "file_extension": ".py",
   "mimetype": "text/x-python",
   "name": "python",
   "nbconvert_exporter": "python",
   "pygments_lexer": "ipython3",
   "version": "3.13.5"
  }
 },
 "nbformat": 4,
 "nbformat_minor": 5
}
