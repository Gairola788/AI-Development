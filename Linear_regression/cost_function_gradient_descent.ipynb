{
 "cells": [
  {
   "cell_type": "markdown",
   "id": "7321607d",
   "metadata": {},
   "source": [
    "# Linear Regression: Cost Function and Gradient Descent (from Scratch)\n",
    "\n",
    "In this notebook, I implement Linear Regression from scratch using NumPy to understand how the Cost Function and Gradient Descent work internally.\n"
   ]
  },
  {
   "cell_type": "markdown",
   "id": "eab62f18",
   "metadata": {},
   "source": [
    "### 🧮 Cost Function\n",
    "\n",
    "The cost function used in Linear Regression is:\n",
    "\n",
    "$$\n",
    "J(\\\\theta) = \\\\frac{1}{2m} \\\\sum_{i=1}^{m} \\\\left( h_\\\\theta(x^{(i)}) - y^{(i)} \\\\right)^2\n",
    "$$\n",
    "\n",
    "Where:\n",
    "- \\( h_\\\\theta(x) = wx + b \\)\n",
    "- \\( m \\) is the number of training examples\n"
   ]
  },
  {
   "cell_type": "code",
   "execution_count": 2,
   "id": "e5740d7a",
   "metadata": {},
   "outputs": [
    {
     "name": "stdout",
     "output_type": "stream",
     "text": [
      "Cost: 2.333333333333333\n"
     ]
    }
   ],
   "source": [
    "import numpy as np\n",
    "\n",
    "\n",
    "\n",
    "def compute_cost(X, y, theta):\n",
    "    m = len(y)  # Number of training examples\n",
    "    predictions = X.dot(theta)  # h_theta(x) = X * theta\n",
    "    errors = predictions - y\n",
    "    squared_errors = errors ** 2\n",
    "    cost = (1 / (2 * m)) * np.sum(squared_errors)\n",
    "    return cost\n",
    "\n",
    "# Example usage:\n",
    "X = np.array([[1, 1], [1, 2], [1, 3]])  # Added a column of 1s for theta_0 (bias)\n",
    "y = np.array([2, 4, 6])\n",
    "theta = np.array([0, 1])  # [theta_0, theta_1]\n",
    "\n",
    "cost = compute_cost(X, y, theta)\n",
    "print(f\"Cost: {cost}\")  # Output: ~2.33 (matches manual calculation)"
   ]
  }
 ],
 "metadata": {
  "kernelspec": {
   "display_name": "Python 3",
   "language": "python",
   "name": "python3"
  },
  "language_info": {
   "codemirror_mode": {
    "name": "ipython",
    "version": 3
   },
   "file_extension": ".py",
   "mimetype": "text/x-python",
   "name": "python",
   "nbconvert_exporter": "python",
   "pygments_lexer": "ipython3",
   "version": "3.13.5"
  }
 },
 "nbformat": 4,
 "nbformat_minor": 5
}
